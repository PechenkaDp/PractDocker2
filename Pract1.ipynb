{
 "cells": [
  {
   "cell_type": "markdown",
   "metadata": {},
   "source": [
    "Для начала работы с датасетом, во-первых нужно установить библиотеки для более удобной работы, а во-вторых установить и импортировать сам датасет"
   ]
  },
  {
   "cell_type": "markdown",
   "metadata": {},
   "source": [
    "# Импорт необходимых библиотек:"
   ]
  },
  {
   "cell_type": "markdown",
   "metadata": {},
   "source": [
    "Первая библиотека - Pandas. Эта библиотека для работы с данными, которая предоставляет высокоуровневые структуры данных и инструменты для анализа данных в Python."
   ]
  },
  {
   "cell_type": "markdown",
   "metadata": {},
   "source": [
    "Вторая библиотека - Seaborn. Данная библиотека предназначена для визуализации данных, построенная на основе Matplotlib. Seaborn упрощает создание привлекательных и информативных графиков и включает множество встроенных тем и палитр."
   ]
  },
  {
   "cell_type": "markdown",
   "metadata": {},
   "source": [
    "Третья библиотека - Matplotlib. Matplotlib — это базовая библиотека для создания статических, анимированных и интерактивных визуализаций в Python. Она предоставляет низкоуровневый интерфейс для построения графиков и может использоваться для создания сложных визуализаций. "
   ]
  },
  {
   "cell_type": "code",
   "execution_count": 41,
   "metadata": {},
   "outputs": [],
   "source": [
    "import pandas as pd\n",
    "import seaborn as sns\n",
    "import matplotlib.pyplot as plt"
   ]
  },
  {
   "cell_type": "markdown",
   "metadata": {},
   "source": [
    "# Загрузка датасета:\n",
    "При помощи библиотеки pandas загружаем датасет в переменную для дальнейшей работы с ним"
   ]
  },
  {
   "cell_type": "code",
   "execution_count": 42,
   "metadata": {},
   "outputs": [],
   "source": [
    "df = pd.read_csv('Dataset_salary_2024.csv')"
   ]
  },
  {
   "cell_type": "markdown",
   "metadata": {},
   "source": [
    "# Работа с датасетом:"
   ]
  },
  {
   "cell_type": "markdown",
   "metadata": {},
   "source": [
    "Функция df.head() выводит первые 5 строк датафрейма df. Это позволяет быстро увидеть, как выглядят данные и какие столбцы в них содержатся. Функция df.info() выводит информацию о датасете, включая количество непустых (ненулевых) значений в каждом столбце, типы данных каждого столбца, а также объем памяти, занимаемый датасетом. Функция df.describe() выводит статистическое описание числовых данных в датасете. Она показывает такие показатели, как среднее значение (mean), стандартное отклонение (std), минимальное (min) и максимальное (max) значения, а также значения квартилей (25%, 50%, 75%). Функция df.isnull().sum() считает количество пропущенных значений (NaN) в каждом столбце и выводит их."
   ]
  },
  {
   "cell_type": "code",
   "execution_count": 43,
   "metadata": {},
   "outputs": [
    {
     "name": "stdout",
     "output_type": "stream",
     "text": [
      "Первые 5 строк датасета: \n",
      "   work_year experience_level employment_type                  job_title  \\\n",
      "0       2024               SE              FT                AI Engineer   \n",
      "1       2024               SE              FT                AI Engineer   \n",
      "2       2024               SE              FT              Data Engineer   \n",
      "3       2024               SE              FT              Data Engineer   \n",
      "4       2024               SE              FT  Machine Learning Engineer   \n",
      "\n",
      "   salary salary_currency  salary_in_usd employee_residence  remote_ratio  \\\n",
      "0  202730             USD         202730                 US             0   \n",
      "1   92118             USD          92118                 US             0   \n",
      "2  130500             USD         130500                 US             0   \n",
      "3   96000             USD          96000                 US             0   \n",
      "4  190000             USD         190000                 US             0   \n",
      "\n",
      "  company_location company_size  \n",
      "0               US            M  \n",
      "1               US            M  \n",
      "2               US            M  \n",
      "3               US            M  \n",
      "4               US            M  \n",
      "Информация датасета: \n",
      "<class 'pandas.core.frame.DataFrame'>\n",
      "RangeIndex: 16534 entries, 0 to 16533\n",
      "Data columns (total 11 columns):\n",
      " #   Column              Non-Null Count  Dtype \n",
      "---  ------              --------------  ----- \n",
      " 0   work_year           16534 non-null  int64 \n",
      " 1   experience_level    16534 non-null  object\n",
      " 2   employment_type     16534 non-null  object\n",
      " 3   job_title           16534 non-null  object\n",
      " 4   salary              16534 non-null  int64 \n",
      " 5   salary_currency     16534 non-null  object\n",
      " 6   salary_in_usd       16534 non-null  int64 \n",
      " 7   employee_residence  16534 non-null  object\n",
      " 8   remote_ratio        16534 non-null  int64 \n",
      " 9   company_location    16534 non-null  object\n",
      " 10  company_size        16534 non-null  object\n",
      "dtypes: int64(4), object(7)\n",
      "memory usage: 1.4+ MB\n",
      "None\n",
      "Статистическое описание: \n",
      "          work_year        salary  salary_in_usd  remote_ratio\n",
      "count  16534.000000  1.653400e+04   16534.000000  16534.000000\n",
      "mean    2023.226866  1.637270e+05  149686.777973     32.003750\n",
      "std        0.713558  3.402057e+05   68505.293156     46.245158\n",
      "min     2020.000000  1.400000e+04   15000.000000      0.000000\n",
      "25%     2023.000000  1.017630e+05  101125.000000      0.000000\n",
      "50%     2023.000000  1.422000e+05  141300.000000      0.000000\n",
      "75%     2024.000000  1.872000e+05  185900.000000    100.000000\n",
      "max     2024.000000  3.040000e+07  800000.000000    100.000000\n",
      "Проверка датасета на наличие пропущенных значений: \n",
      "work_year             0\n",
      "experience_level      0\n",
      "employment_type       0\n",
      "job_title             0\n",
      "salary                0\n",
      "salary_currency       0\n",
      "salary_in_usd         0\n",
      "employee_residence    0\n",
      "remote_ratio          0\n",
      "company_location      0\n",
      "company_size          0\n",
      "dtype: int64\n"
     ]
    }
   ],
   "source": [
    "print(\"Первые 5 строк датасета: \")\n",
    "print(df.head())\n",
    "print(\"Информация датасета: \")\n",
    "print(df.info())\n",
    "print(\"Статистическое описание: \")\n",
    "print(df.describe())\n",
    "print(\"Проверка датасета на наличие пропущенных значений: \")\n",
    "print(df.isnull().sum())"
   ]
  },
  {
   "cell_type": "markdown",
   "metadata": {},
   "source": [
    "Удаление столбцов в датасете. \n",
    "Команда df.drop(columns=['work_year'], inplace=True) удаляет столбец work_year из датафрейма df."
   ]
  },
  {
   "cell_type": "code",
   "execution_count": 44,
   "metadata": {},
   "outputs": [
    {
     "name": "stdout",
     "output_type": "stream",
     "text": [
      "  experience_level employment_type                  job_title  salary  \\\n",
      "0               SE              FT                AI Engineer  202730   \n",
      "1               SE              FT                AI Engineer   92118   \n",
      "2               SE              FT              Data Engineer  130500   \n",
      "3               SE              FT              Data Engineer   96000   \n",
      "4               SE              FT  Machine Learning Engineer  190000   \n",
      "\n",
      "  salary_currency  salary_in_usd employee_residence  remote_ratio  \\\n",
      "0             USD         202730                 US             0   \n",
      "1             USD          92118                 US             0   \n",
      "2             USD         130500                 US             0   \n",
      "3             USD          96000                 US             0   \n",
      "4             USD         190000                 US             0   \n",
      "\n",
      "  company_location company_size  \n",
      "0               US            M  \n",
      "1               US            M  \n",
      "2               US            M  \n",
      "3               US            M  \n",
      "4               US            M  \n"
     ]
    }
   ],
   "source": [
    "df.drop(columns=['work_year'], inplace=True)\n",
    "print(df.head())"
   ]
  },
  {
   "cell_type": "markdown",
   "metadata": {},
   "source": [
    "Команда df.drop_duplicates(inplace=True) позволяет удалить дубликаты из датафрейма на месте, то есть без создания нового объекта датафрейма."
   ]
  },
  {
   "cell_type": "code",
   "execution_count": 45,
   "metadata": {},
   "outputs": [],
   "source": [
    "df.drop_duplicates(inplace=True)"
   ]
  },
  {
   "cell_type": "markdown",
   "metadata": {},
   "source": [
    "Данная команда сортирует значения столбца salary_in_usd по убыванию."
   ]
  },
  {
   "cell_type": "code",
   "execution_count": 46,
   "metadata": {},
   "outputs": [
    {
     "name": "stdout",
     "output_type": "stream",
     "text": [
      "      experience_level employment_type                        job_title  \\\n",
      "15639               EN              FT       Machine Learning Developer   \n",
      "10800               MI              FT  Business Intelligence Developer   \n",
      "13011               EX              FT               Staff Data Analyst   \n",
      "15936               EN              FT                     Data Analyst   \n",
      "11061               MI              FT                     Data Analyst   \n",
      "\n",
      "       salary salary_currency  salary_in_usd employee_residence  remote_ratio  \\\n",
      "15639   15000             USD          15000                 TH           100   \n",
      "10800   15000             USD          15000                 GH           100   \n",
      "13011   15000             USD          15000                 NG             0   \n",
      "15936   15000             USD          15000                 ID             0   \n",
      "11061  866000             PHP          15680                 PH            50   \n",
      "\n",
      "      company_location company_size  \n",
      "15639               TH            L  \n",
      "10800               GH            M  \n",
      "13011               CA            M  \n",
      "15936               ID            L  \n",
      "11061               PH            L  \n"
     ]
    }
   ],
   "source": [
    "df.sort_values(by='salary_in_usd', inplace=True)\n",
    "print(df.head())"
   ]
  },
  {
   "cell_type": "markdown",
   "metadata": {},
   "source": [
    "Теперь можно из датасета выбрать целевую переменную, то есть столбец, который будет использоваться для анализа данных. Я выбрал данную переменную, так как она имеет несколько повторяющихся значений, которые будет удобно сортировать и выводить различными способами."
   ]
  },
  {
   "cell_type": "code",
   "execution_count": 47,
   "metadata": {},
   "outputs": [
    {
     "name": "stdout",
     "output_type": "stream",
     "text": [
      "Целевая переменная выбрана\n"
     ]
    }
   ],
   "source": [
    "target_column = 'employment_type'\n",
    "print(\"Целевая переменная выбрана\")"
   ]
  },
  {
   "cell_type": "markdown",
   "metadata": {},
   "source": [
    "Для сохранения датасета в файл можно использовать метод \"to_csv()\". Достаточно выбрать новое название датасета и он сохранится в директоии проекта в формате csv"
   ]
  },
  {
   "cell_type": "code",
   "execution_count": 48,
   "metadata": {},
   "outputs": [
    {
     "name": "stdout",
     "output_type": "stream",
     "text": [
      "Датасет сохранён\n"
     ]
    }
   ],
   "source": [
    "processed_dataset = \"processed_data_eng_salary_2024.csv\"\n",
    "df.to_csv(processed_dataset, index=False)\n",
    "print(\"Датасет сохранён\")"
   ]
  }
 ],
 "metadata": {
  "kernelspec": {
   "display_name": "Python 3",
   "language": "python",
   "name": "python3"
  },
  "language_info": {
   "codemirror_mode": {
    "name": "ipython",
    "version": 3
   },
   "file_extension": ".py",
   "mimetype": "text/x-python",
   "name": "python",
   "nbconvert_exporter": "python",
   "pygments_lexer": "ipython3",
   "version": "3.12.2"
  }
 },
 "nbformat": 4,
 "nbformat_minor": 2
}
