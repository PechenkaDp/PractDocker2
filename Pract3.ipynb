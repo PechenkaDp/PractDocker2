{
 "cells": [
  {
   "cell_type": "markdown",
   "metadata": {},
   "source": [
    "# Подготовка к работе"
   ]
  },
  {
   "cell_type": "markdown",
   "metadata": {},
   "source": [
    "Импортирование библиотек"
   ]
  },
  {
   "cell_type": "code",
   "execution_count": 16,
   "metadata": {},
   "outputs": [],
   "source": [
    "import pandas as pd\n",
    "from sklearn.preprocessing import OrdinalEncoder\n",
    "from sklearn.preprocessing import LabelEncoder\n",
    "from sklearn.preprocessing import OneHotEncoder\n",
    "from sklearn.preprocessing import StandardScaler\n",
    "from sklearn.preprocessing import StandardScaler\n",
    "from sklearn.preprocessing import Normalizer\n",
    "from sklearn.preprocessing import RobustScaler\n",
    "from sklearn.preprocessing import PowerTransformer\n",
    "from sklearn.preprocessing import MinMaxScaler"
   ]
  },
  {
   "cell_type": "markdown",
   "metadata": {},
   "source": [
    "Импортирование датасета"
   ]
  },
  {
   "cell_type": "code",
   "execution_count": 4,
   "metadata": {},
   "outputs": [],
   "source": [
    "df = pd.read_csv('Dataset_salary_2024.csv')"
   ]
  },
  {
   "cell_type": "markdown",
   "metadata": {},
   "source": [
    "# Основная работа с датасетом"
   ]
  },
  {
   "cell_type": "markdown",
   "metadata": {},
   "source": [
    "OrdinalEncoder используется для преобразования категориальных данных в числовые значения, но сохраняет порядок категорий."
   ]
  },
  {
   "cell_type": "code",
   "execution_count": 5,
   "metadata": {},
   "outputs": [
    {
     "name": "stdout",
     "output_type": "stream",
     "text": [
      "\n",
      "Данные после OrdinalEncoder:\n",
      "   work_year experience_level employment_type                  job_title  \\\n",
      "0       2024               SE              FT                AI Engineer   \n",
      "1       2024               SE              FT                AI Engineer   \n",
      "2       2024               SE              FT              Data Engineer   \n",
      "3       2024               SE              FT              Data Engineer   \n",
      "4       2024               SE              FT  Machine Learning Engineer   \n",
      "\n",
      "   salary salary_currency  salary_in_usd employee_residence  remote_ratio  \\\n",
      "0  202730             USD         202730                 US             0   \n",
      "1   92118             USD          92118                 US             0   \n",
      "2  130500             USD         130500                 US             0   \n",
      "3   96000             USD          96000                 US             0   \n",
      "4  190000             USD         190000                 US             0   \n",
      "\n",
      "  company_location company_size  employment_type_encoded  \n",
      "0               US            M                      2.0  \n",
      "1               US            M                      2.0  \n",
      "2               US            M                      2.0  \n",
      "3               US            M                      2.0  \n",
      "4               US            M                      2.0  \n"
     ]
    }
   ],
   "source": [
    "encoder = OrdinalEncoder()\n",
    "df['employment_type_encoded'] = encoder.fit_transform(df[['employment_type']])\n",
    "print(\"\\nДанные после OrdinalEncoder:\")\n",
    "print(df.head())"
   ]
  },
  {
   "cell_type": "markdown",
   "metadata": {},
   "source": [
    "LabelEncoder используется для преобразования одного столбца с категориальными метками в числовые значения."
   ]
  },
  {
   "cell_type": "code",
   "execution_count": 7,
   "metadata": {},
   "outputs": [
    {
     "name": "stdout",
     "output_type": "stream",
     "text": [
      "\n",
      "Данные после LabelEncoder:\n",
      "   work_year experience_level employment_type                  job_title  \\\n",
      "0       2024               SE              FT                AI Engineer   \n",
      "1       2024               SE              FT                AI Engineer   \n",
      "2       2024               SE              FT              Data Engineer   \n",
      "3       2024               SE              FT              Data Engineer   \n",
      "4       2024               SE              FT  Machine Learning Engineer   \n",
      "\n",
      "   salary salary_currency  salary_in_usd employee_residence  remote_ratio  \\\n",
      "0  202730             USD         202730                 US             0   \n",
      "1   92118             USD          92118                 US             0   \n",
      "2  130500             USD         130500                 US             0   \n",
      "3   96000             USD          96000                 US             0   \n",
      "4  190000             USD         190000                 US             0   \n",
      "\n",
      "  company_location company_size  employment_type_encoded  \\\n",
      "0               US            M                      2.0   \n",
      "1               US            M                      2.0   \n",
      "2               US            M                      2.0   \n",
      "3               US            M                      2.0   \n",
      "4               US            M                      2.0   \n",
      "\n",
      "   company_location_encoded  \n",
      "0                        74  \n",
      "1                        74  \n",
      "2                        74  \n",
      "3                        74  \n",
      "4                        74  \n"
     ]
    }
   ],
   "source": [
    "label_encoder = LabelEncoder()\n",
    "df['company_location_encoded'] = label_encoder.fit_transform(df['company_location'])\n",
    "print(\"\\nДанные после LabelEncoder:\")\n",
    "print(df.head())"
   ]
  },
  {
   "cell_type": "markdown",
   "metadata": {},
   "source": [
    "OneHotEncoder используется для преобразования категориальных данных в бинарные столбцы, что позволяет избежать предположений о порядке категорий."
   ]
  },
  {
   "cell_type": "code",
   "execution_count": 13,
   "metadata": {},
   "outputs": [
    {
     "name": "stdout",
     "output_type": "stream",
     "text": [
      "\n",
      "Данные после OneHotEncoder:\n",
      "    CT   FL   FT   PT\n",
      "0  0.0  0.0  1.0  0.0\n",
      "1  0.0  0.0  1.0  0.0\n",
      "2  0.0  0.0  1.0  0.0\n",
      "3  0.0  0.0  1.0  0.0\n",
      "4  0.0  0.0  1.0  0.0\n"
     ]
    }
   ],
   "source": [
    "one_hot_encoder = OneHotEncoder()\n",
    "df_encoded = one_hot_encoder.fit_transform(df[['employment_type']])\n",
    "df_encoded = pd.DataFrame(df_encoded.toarray(), columns=one_hot_encoder.categories_[0])\n",
    "print(\"\\nДанные после OneHotEncoder:\")\n",
    "print(df_encoded.head())"
   ]
  },
  {
   "cell_type": "markdown",
   "metadata": {},
   "source": [
    "StandardScaler используется для стандартизации данных путем удаления среднего значения и масштабирования до единичной дисперсии."
   ]
  },
  {
   "cell_type": "code",
   "execution_count": 14,
   "metadata": {},
   "outputs": [
    {
     "name": "stdout",
     "output_type": "stream",
     "text": [
      "\n",
      "Данные после StandardScaler:\n",
      "   work_year experience_level employment_type                  job_title  \\\n",
      "0       2024               SE              FT                AI Engineer   \n",
      "1       2024               SE              FT                AI Engineer   \n",
      "2       2024               SE              FT              Data Engineer   \n",
      "3       2024               SE              FT              Data Engineer   \n",
      "4       2024               SE              FT  Machine Learning Engineer   \n",
      "\n",
      "   salary salary_currency  salary_in_usd employee_residence  remote_ratio  \\\n",
      "0  202730             USD         202730                 US             0   \n",
      "1   92118             USD          92118                 US             0   \n",
      "2  130500             USD         130500                 US             0   \n",
      "3   96000             USD          96000                 US             0   \n",
      "4  190000             USD         190000                 US             0   \n",
      "\n",
      "  company_location company_size  employment_type_encoded  \\\n",
      "0               US            M                      2.0   \n",
      "1               US            M                      2.0   \n",
      "2               US            M                      2.0   \n",
      "3               US            M                      2.0   \n",
      "4               US            M                      2.0   \n",
      "\n",
      "   company_location_encoded  salary_scaled  work_year_scaled  \n",
      "0                        74       0.114649          1.083524  \n",
      "1                        74      -0.210494          1.083524  \n",
      "2                        74      -0.097670          1.083524  \n",
      "3                        74      -0.199083          1.083524  \n",
      "4                        74       0.077229          1.083524  \n"
     ]
    }
   ],
   "source": [
    "scaler = StandardScaler()\n",
    "scaled_features = scaler.fit_transform(df[['salary', 'work_year']])\n",
    "df[['salary_scaled', 'work_year_scaled']] = scaled_features\n",
    "print(\"\\nДанные после StandardScaler:\")\n",
    "print(df.head())"
   ]
  },
  {
   "cell_type": "markdown",
   "metadata": {},
   "source": [
    "MinMaxScaler масштабирует данные в интервал от 0 до 1, сохраняя форму распределения данных."
   ]
  },
  {
   "cell_type": "code",
   "execution_count": 17,
   "metadata": {},
   "outputs": [
    {
     "name": "stdout",
     "output_type": "stream",
     "text": [
      "\n",
      "Данные после MinMaxScaler:\n",
      "   work_year experience_level employment_type                  job_title  \\\n",
      "0       2024               SE              FT                AI Engineer   \n",
      "1       2024               SE              FT                AI Engineer   \n",
      "2       2024               SE              FT              Data Engineer   \n",
      "3       2024               SE              FT              Data Engineer   \n",
      "4       2024               SE              FT  Machine Learning Engineer   \n",
      "\n",
      "   salary salary_currency  salary_in_usd employee_residence  remote_ratio  \\\n",
      "0  202730             USD         202730                 US             0   \n",
      "1   92118             USD          92118                 US             0   \n",
      "2  130500             USD         130500                 US             0   \n",
      "3   96000             USD          96000                 US             0   \n",
      "4  190000             USD         190000                 US             0   \n",
      "\n",
      "  company_location company_size  employment_type_encoded  \\\n",
      "0               US            M                      2.0   \n",
      "1               US            M                      2.0   \n",
      "2               US            M                      2.0   \n",
      "3               US            M                      2.0   \n",
      "4               US            M                      2.0   \n",
      "\n",
      "   company_location_encoded  salary_scaled  work_year_scaled  salary_minmax  \\\n",
      "0                        74       0.114649          1.083524       0.006211   \n",
      "1                        74      -0.210494          1.083524       0.002571   \n",
      "2                        74      -0.097670          1.083524       0.003834   \n",
      "3                        74      -0.199083          1.083524       0.002699   \n",
      "4                        74       0.077229          1.083524       0.005792   \n",
      "\n",
      "   work_year_minmax  \n",
      "0               1.0  \n",
      "1               1.0  \n",
      "2               1.0  \n",
      "3               1.0  \n",
      "4               1.0  \n"
     ]
    }
   ],
   "source": [
    "scaler = MinMaxScaler()\n",
    "scaled_features = scaler.fit_transform(df[['salary', 'work_year']])\n",
    "df[['salary_minmax', 'work_year_minmax']] = scaled_features\n",
    "print(\"\\nДанные после MinMaxScaler:\")\n",
    "print(df.head())"
   ]
  },
  {
   "cell_type": "markdown",
   "metadata": {},
   "source": [
    "Normalizer используется для нормализации признаков путем приведения каждого вектора признаков к единичной норме."
   ]
  },
  {
   "cell_type": "code",
   "execution_count": 18,
   "metadata": {},
   "outputs": [
    {
     "name": "stdout",
     "output_type": "stream",
     "text": [
      "\n",
      "Данные после Normalizer:\n",
      "   work_year experience_level employment_type                  job_title  \\\n",
      "0       2024               SE              FT                AI Engineer   \n",
      "1       2024               SE              FT                AI Engineer   \n",
      "2       2024               SE              FT              Data Engineer   \n",
      "3       2024               SE              FT              Data Engineer   \n",
      "4       2024               SE              FT  Machine Learning Engineer   \n",
      "\n",
      "   salary salary_currency  salary_in_usd employee_residence  remote_ratio  \\\n",
      "0  202730             USD         202730                 US             0   \n",
      "1   92118             USD          92118                 US             0   \n",
      "2  130500             USD         130500                 US             0   \n",
      "3   96000             USD          96000                 US             0   \n",
      "4  190000             USD         190000                 US             0   \n",
      "\n",
      "  company_location company_size  employment_type_encoded  \\\n",
      "0               US            M                      2.0   \n",
      "1               US            M                      2.0   \n",
      "2               US            M                      2.0   \n",
      "3               US            M                      2.0   \n",
      "4               US            M                      2.0   \n",
      "\n",
      "   company_location_encoded  salary_scaled  work_year_scaled  salary_minmax  \\\n",
      "0                        74       0.114649          1.083524       0.006211   \n",
      "1                        74      -0.210494          1.083524       0.002571   \n",
      "2                        74      -0.097670          1.083524       0.003834   \n",
      "3                        74      -0.199083          1.083524       0.002699   \n",
      "4                        74       0.077229          1.083524       0.005792   \n",
      "\n",
      "   work_year_minmax  salary_normalized  work_year_normalized  \n",
      "0               1.0           0.999950              0.009983  \n",
      "1               1.0           0.999759              0.021967  \n",
      "2               1.0           0.999880              0.015508  \n",
      "3               1.0           0.999778              0.021079  \n",
      "4               1.0           0.999943              0.010652  \n"
     ]
    }
   ],
   "source": [
    "scaler = Normalizer()\n",
    "normalized_features = scaler.fit_transform(df[['salary', 'work_year']])\n",
    "df[['salary_normalized', 'work_year_normalized']] = normalized_features\n",
    "print(\"\\nДанные после Normalizer:\")\n",
    "print(df.head())"
   ]
  },
  {
   "cell_type": "markdown",
   "metadata": {},
   "source": [
    "RobustScaler используется для масштабирования признаков, устойчиво к наличию выбросов в данных."
   ]
  },
  {
   "cell_type": "code",
   "execution_count": 19,
   "metadata": {},
   "outputs": [
    {
     "name": "stdout",
     "output_type": "stream",
     "text": [
      "\n",
      "Данные после RobustScaler:\n",
      "   work_year experience_level employment_type                  job_title  \\\n",
      "0       2024               SE              FT                AI Engineer   \n",
      "1       2024               SE              FT                AI Engineer   \n",
      "2       2024               SE              FT              Data Engineer   \n",
      "3       2024               SE              FT              Data Engineer   \n",
      "4       2024               SE              FT  Machine Learning Engineer   \n",
      "\n",
      "   salary salary_currency  salary_in_usd employee_residence  remote_ratio  \\\n",
      "0  202730             USD         202730                 US             0   \n",
      "1   92118             USD          92118                 US             0   \n",
      "2  130500             USD         130500                 US             0   \n",
      "3   96000             USD          96000                 US             0   \n",
      "4  190000             USD         190000                 US             0   \n",
      "\n",
      "  company_location company_size  employment_type_encoded  \\\n",
      "0               US            M                      2.0   \n",
      "1               US            M                      2.0   \n",
      "2               US            M                      2.0   \n",
      "3               US            M                      2.0   \n",
      "4               US            M                      2.0   \n",
      "\n",
      "   company_location_encoded  salary_scaled  work_year_scaled  salary_minmax  \\\n",
      "0                        74       0.114649          1.083524       0.006211   \n",
      "1                        74      -0.210494          1.083524       0.002571   \n",
      "2                        74      -0.097670          1.083524       0.003834   \n",
      "3                        74      -0.199083          1.083524       0.002699   \n",
      "4                        74       0.077229          1.083524       0.005792   \n",
      "\n",
      "   work_year_minmax  salary_normalized  work_year_normalized  \\\n",
      "0               1.0           0.999950              0.009983   \n",
      "1               1.0           0.999759              0.021967   \n",
      "2               1.0           0.999880              0.015508   \n",
      "3               1.0           0.999778              0.021079   \n",
      "4               1.0           0.999943              0.010652   \n",
      "\n",
      "   salary_robust_scaled  \n",
      "0              0.708475  \n",
      "1             -0.586186  \n",
      "2             -0.136943  \n",
      "3             -0.540749  \n",
      "4              0.559477  \n"
     ]
    }
   ],
   "source": [
    "scaler = RobustScaler()\n",
    "scaled_features = scaler.fit_transform(df[['salary']])\n",
    "df['salary_robust_scaled'] = scaled_features\n",
    "print(\"\\nДанные после RobustScaler:\")\n",
    "print(df.head())"
   ]
  },
  {
   "cell_type": "markdown",
   "metadata": {},
   "source": [
    "PowerTransformer применяется для преобразования данных так, чтобы они были более нормально распределены."
   ]
  },
  {
   "cell_type": "code",
   "execution_count": 20,
   "metadata": {},
   "outputs": [
    {
     "name": "stdout",
     "output_type": "stream",
     "text": [
      "\n",
      "Данные после PowerTransformer:\n",
      "   work_year experience_level employment_type                  job_title  \\\n",
      "0       2024               SE              FT                AI Engineer   \n",
      "1       2024               SE              FT                AI Engineer   \n",
      "2       2024               SE              FT              Data Engineer   \n",
      "3       2024               SE              FT              Data Engineer   \n",
      "4       2024               SE              FT  Machine Learning Engineer   \n",
      "\n",
      "   salary salary_currency  salary_in_usd employee_residence  remote_ratio  \\\n",
      "0  202730             USD         202730                 US             0   \n",
      "1   92118             USD          92118                 US             0   \n",
      "2  130500             USD         130500                 US             0   \n",
      "3   96000             USD          96000                 US             0   \n",
      "4  190000             USD         190000                 US             0   \n",
      "\n",
      "  company_location  ... employment_type_encoded  company_location_encoded  \\\n",
      "0               US  ...                     2.0                        74   \n",
      "1               US  ...                     2.0                        74   \n",
      "2               US  ...                     2.0                        74   \n",
      "3               US  ...                     2.0                        74   \n",
      "4               US  ...                     2.0                        74   \n",
      "\n",
      "   salary_scaled  work_year_scaled  salary_minmax  work_year_minmax  \\\n",
      "0       0.114649          1.083524       0.006211               1.0   \n",
      "1      -0.210494          1.083524       0.002571               1.0   \n",
      "2      -0.097670          1.083524       0.003834               1.0   \n",
      "3      -0.199083          1.083524       0.002699               1.0   \n",
      "4       0.077229          1.083524       0.005792               1.0   \n",
      "\n",
      "   salary_normalized  work_year_normalized  salary_robust_scaled  \\\n",
      "0           0.999950              0.009983              0.708475   \n",
      "1           0.999759              0.021967             -0.586186   \n",
      "2           0.999880              0.015508             -0.136943   \n",
      "3           0.999778              0.021079             -0.540749   \n",
      "4           0.999943              0.010652              0.559477   \n",
      "\n",
      "   salary_transformed  \n",
      "0            0.766204  \n",
      "1           -0.737083  \n",
      "2           -0.065061  \n",
      "3           -0.656751  \n",
      "4            0.645115  \n",
      "\n",
      "[5 rows x 21 columns]\n"
     ]
    }
   ],
   "source": [
    "scaler = PowerTransformer(method='yeo-johnson')\n",
    "transformed_features = scaler.fit_transform(df[['salary']])\n",
    "df['salary_transformed'] = transformed_features\n",
    "print(\"\\nДанные после PowerTransformer:\")\n",
    "print(df.head())"
   ]
  },
  {
   "cell_type": "markdown",
   "metadata": {},
   "source": [
    "Сохранение датасета происходит так же как и раньше, при помощи \"to_csv\" (1-я практическая)"
   ]
  },
  {
   "cell_type": "code",
   "execution_count": 21,
   "metadata": {},
   "outputs": [],
   "source": [
    "df.to_csv('dataset_salary_2024_encoded.csv', index=False)"
   ]
  }
 ],
 "metadata": {
  "kernelspec": {
   "display_name": "Python 3",
   "language": "python",
   "name": "python3"
  },
  "language_info": {
   "codemirror_mode": {
    "name": "ipython",
    "version": 3
   },
   "file_extension": ".py",
   "mimetype": "text/x-python",
   "name": "python",
   "nbconvert_exporter": "python",
   "pygments_lexer": "ipython3",
   "version": "3.12.2"
  }
 },
 "nbformat": 4,
 "nbformat_minor": 2
}
