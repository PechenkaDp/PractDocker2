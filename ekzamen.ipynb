{
 "cells": [
  {
   "cell_type": "markdown",
   "metadata": {},
   "source": [
    "# Инициализация датасета\n",
    "Загрузка датасета и импорт библиотек"
   ]
  },
  {
   "cell_type": "code",
   "execution_count": 1,
   "metadata": {},
   "outputs": [],
   "source": [
    "import pandas as pd\n",
    "\n",
    "df = pd.read_csv('mushrooms.csv')"
   ]
  },
  {
   "cell_type": "markdown",
   "metadata": {},
   "source": [
    "Далее выводим первые 5 строк"
   ]
  },
  {
   "cell_type": "code",
   "execution_count": 2,
   "metadata": {},
   "outputs": [
    {
     "name": "stdout",
     "output_type": "stream",
     "text": [
      "  class cap-shape cap-surface cap-color bruises odor gill-attachment  \\\n",
      "0     p         x           s         n       t    p               f   \n",
      "1     e         x           s         y       t    a               f   \n",
      "2     e         b           s         w       t    l               f   \n",
      "3     p         x           y         w       t    p               f   \n",
      "4     e         x           s         g       f    n               f   \n",
      "\n",
      "  gill-spacing gill-size gill-color  ... stalk-surface-below-ring  \\\n",
      "0            c         n          k  ...                        s   \n",
      "1            c         b          k  ...                        s   \n",
      "2            c         b          n  ...                        s   \n",
      "3            c         n          n  ...                        s   \n",
      "4            w         b          k  ...                        s   \n",
      "\n",
      "  stalk-color-above-ring stalk-color-below-ring veil-type veil-color  \\\n",
      "0                      w                      w         p          w   \n",
      "1                      w                      w         p          w   \n",
      "2                      w                      w         p          w   \n",
      "3                      w                      w         p          w   \n",
      "4                      w                      w         p          w   \n",
      "\n",
      "  ring-number ring-type spore-print-color population habitat  \n",
      "0           o         p                 k          s       u  \n",
      "1           o         p                 n          n       g  \n",
      "2           o         p                 n          n       m  \n",
      "3           o         p                 k          s       u  \n",
      "4           o         e                 n          a       g  \n",
      "\n",
      "[5 rows x 23 columns]\n"
     ]
    }
   ],
   "source": [
    "print(df.head())"
   ]
  },
  {
   "cell_type": "markdown",
   "metadata": {},
   "source": [
    "Вывод некоторых столбцов из датасета"
   ]
  },
  {
   "cell_type": "code",
   "execution_count": 3,
   "metadata": {},
   "outputs": [
    {
     "name": "stdout",
     "output_type": "stream",
     "text": [
      "     class cap-color\n",
      "0        p         n\n",
      "1        e         y\n",
      "2        e         w\n",
      "3        p         w\n",
      "4        e         g\n",
      "...    ...       ...\n",
      "8119     e         n\n",
      "8120     e         n\n",
      "8121     e         n\n",
      "8122     p         n\n",
      "8123     e         n\n",
      "\n",
      "[8124 rows x 2 columns]\n"
     ]
    }
   ],
   "source": [
    "print(df[['class', 'cap-color']])"
   ]
  },
  {
   "cell_type": "markdown",
   "metadata": {},
   "source": [
    "Вывод информации о датасете"
   ]
  },
  {
   "cell_type": "code",
   "execution_count": 4,
   "metadata": {},
   "outputs": [
    {
     "name": "stdout",
     "output_type": "stream",
     "text": [
      "<class 'pandas.core.frame.DataFrame'>\n",
      "RangeIndex: 8124 entries, 0 to 8123\n",
      "Data columns (total 23 columns):\n",
      " #   Column                    Non-Null Count  Dtype \n",
      "---  ------                    --------------  ----- \n",
      " 0   class                     8124 non-null   object\n",
      " 1   cap-shape                 8124 non-null   object\n",
      " 2   cap-surface               8124 non-null   object\n",
      " 3   cap-color                 8124 non-null   object\n",
      " 4   bruises                   8124 non-null   object\n",
      " 5   odor                      8124 non-null   object\n",
      " 6   gill-attachment           8124 non-null   object\n",
      " 7   gill-spacing              8124 non-null   object\n",
      " 8   gill-size                 8124 non-null   object\n",
      " 9   gill-color                8124 non-null   object\n",
      " 10  stalk-shape               8124 non-null   object\n",
      " 11  stalk-root                8124 non-null   object\n",
      " 12  stalk-surface-above-ring  8124 non-null   object\n",
      " 13  stalk-surface-below-ring  8124 non-null   object\n",
      " 14  stalk-color-above-ring    8124 non-null   object\n",
      " 15  stalk-color-below-ring    8124 non-null   object\n",
      " 16  veil-type                 8124 non-null   object\n",
      " 17  veil-color                8124 non-null   object\n",
      " 18  ring-number               8124 non-null   object\n",
      " 19  ring-type                 8124 non-null   object\n",
      " 20  spore-print-color         8124 non-null   object\n",
      " 21  population                8124 non-null   object\n",
      " 22  habitat                   8124 non-null   object\n",
      "dtypes: object(23)\n",
      "memory usage: 1.4+ MB\n",
      "None\n"
     ]
    }
   ],
   "source": [
    "print(df.info())"
   ]
  },
  {
   "cell_type": "markdown",
   "metadata": {},
   "source": [
    "Вывод статистического описания"
   ]
  },
  {
   "cell_type": "code",
   "execution_count": 5,
   "metadata": {},
   "outputs": [
    {
     "name": "stdout",
     "output_type": "stream",
     "text": [
      "       class cap-shape cap-surface cap-color bruises  odor gill-attachment  \\\n",
      "count   8124      8124        8124      8124    8124  8124            8124   \n",
      "unique     2         6           4        10       2     9               2   \n",
      "top        e         x           y         n       f     n               f   \n",
      "freq    4208      3656        3244      2284    4748  3528            7914   \n",
      "\n",
      "       gill-spacing gill-size gill-color  ... stalk-surface-below-ring  \\\n",
      "count          8124      8124       8124  ...                     8124   \n",
      "unique            2         2         12  ...                        4   \n",
      "top               c         b          b  ...                        s   \n",
      "freq           6812      5612       1728  ...                     4936   \n",
      "\n",
      "       stalk-color-above-ring stalk-color-below-ring veil-type veil-color  \\\n",
      "count                    8124                   8124      8124       8124   \n",
      "unique                      9                      9         1          4   \n",
      "top                         w                      w         p          w   \n",
      "freq                     4464                   4384      8124       7924   \n",
      "\n",
      "       ring-number ring-type spore-print-color population habitat  \n",
      "count         8124      8124              8124       8124    8124  \n",
      "unique           3         5                 9          6       7  \n",
      "top              o         p                 w          v       d  \n",
      "freq          7488      3968              2388       4040    3148  \n",
      "\n",
      "[4 rows x 23 columns]\n"
     ]
    }
   ],
   "source": [
    "print(df.describe())"
   ]
  },
  {
   "cell_type": "markdown",
   "metadata": {},
   "source": [
    "Сортировка по значениям"
   ]
  },
  {
   "cell_type": "code",
   "execution_count": 7,
   "metadata": {},
   "outputs": [
    {
     "name": "stdout",
     "output_type": "stream",
     "text": [
      "     bruises\n",
      "8123       f\n",
      "7915       f\n",
      "7914       f\n",
      "252        f\n",
      "7913       f\n"
     ]
    }
   ],
   "source": [
    "df.sort_values(by='bruises', inplace=True)\n",
    "print(df[['bruises']].head())"
   ]
  },
  {
   "cell_type": "markdown",
   "metadata": {},
   "source": [
    "Удаление дубликатов в датасете"
   ]
  },
  {
   "cell_type": "code",
   "execution_count": 8,
   "metadata": {},
   "outputs": [],
   "source": [
    "df.drop_duplicates(inplace=True)"
   ]
  },
  {
   "cell_type": "markdown",
   "metadata": {},
   "source": [
    "Удаление столбца cap-shape"
   ]
  },
  {
   "cell_type": "code",
   "execution_count": 10,
   "metadata": {},
   "outputs": [
    {
     "name": "stdout",
     "output_type": "stream",
     "text": [
      "     class cap-surface cap-color bruises odor gill-attachment gill-spacing  \\\n",
      "8123     e           s         n       f    n               a            c   \n",
      "7915     e           s         n       f    n               a            c   \n",
      "7914     p           s         e       f    f               f            c   \n",
      "252      e           f         n       f    n               f            c   \n",
      "7913     e           s         n       f    n               a            c   \n",
      "...    ...         ...       ...     ...  ...             ...          ...   \n",
      "1959     p           y         n       t    p               f            c   \n",
      "2046     e           f         e       t    n               f            c   \n",
      "2041     e           f         n       t    n               f            c   \n",
      "2079     e           y         e       t    n               f            c   \n",
      "4061     e           f         n       t    n               f            c   \n",
      "\n",
      "     gill-size gill-color stalk-shape  ... stalk-surface-below-ring  \\\n",
      "8123         b          y           e  ...                        s   \n",
      "7915         b          o           e  ...                        s   \n",
      "7914         n          b           t  ...                        k   \n",
      "252          n          g           e  ...                        s   \n",
      "7913         b          n           e  ...                        s   \n",
      "...        ...        ...         ...  ...                      ...   \n",
      "1959         n          w           e  ...                        s   \n",
      "2046         b          u           t  ...                        s   \n",
      "2041         b          n           t  ...                        s   \n",
      "2079         b          u           t  ...                        s   \n",
      "4061         b          n           t  ...                        s   \n",
      "\n",
      "     stalk-color-above-ring stalk-color-below-ring veil-type veil-color  \\\n",
      "8123                      o                      o         p          o   \n",
      "7915                      o                      o         p          o   \n",
      "7914                      p                      p         p          w   \n",
      "252                       w                      w         p          w   \n",
      "7913                      o                      o         p          o   \n",
      "...                     ...                    ...       ...        ...   \n",
      "1959                      w                      w         p          w   \n",
      "2046                      w                      p         p          w   \n",
      "2041                      p                      w         p          w   \n",
      "2079                      w                      p         p          w   \n",
      "4061                      w                      w         p          w   \n",
      "\n",
      "     ring-number ring-type spore-print-color population habitat  \n",
      "8123           o         p                 o          c       l  \n",
      "7915           o         p                 o          v       l  \n",
      "7914           o         e                 w          v       d  \n",
      "252            o         p                 n          v       u  \n",
      "7913           o         p                 o          v       l  \n",
      "...          ...       ...               ...        ...     ...  \n",
      "1959           o         p                 n          s       g  \n",
      "2046           o         p                 n          v       d  \n",
      "2041           o         p                 k          y       d  \n",
      "2079           o         p                 n          y       d  \n",
      "4061           o         p                 n          y       d  \n",
      "\n",
      "[8124 rows x 22 columns]\n"
     ]
    }
   ],
   "source": [
    "df.drop(columns=['cap-shape'], inplace=True)\n",
    "print(df)"
   ]
  }
 ],
 "metadata": {
  "kernelspec": {
   "display_name": "base",
   "language": "python",
   "name": "python3"
  },
  "language_info": {
   "codemirror_mode": {
    "name": "ipython",
    "version": 3
   },
   "file_extension": ".py",
   "mimetype": "text/x-python",
   "name": "python",
   "nbconvert_exporter": "python",
   "pygments_lexer": "ipython3",
   "version": "3.11.7"
  }
 },
 "nbformat": 4,
 "nbformat_minor": 2
}
