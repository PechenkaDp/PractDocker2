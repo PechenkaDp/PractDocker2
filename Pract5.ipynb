{
 "cells": [
  {
   "cell_type": "markdown",
   "id": "a843822f-7310-4998-9be1-c8240ece103c",
   "metadata": {},
   "source": [
    "# Импорт библиотек и загрузка данных"
   ]
  },
  {
   "cell_type": "markdown",
   "id": "b1be5147-364c-4600-be12-3d4d06da5adf",
   "metadata": {},
   "source": [
    "### Импортируем необходимые библиотеки для работы с данными (pandas для работы с таблицами данных, scikit-learn для машинного обучения) и загружаем данные из файла dataset_salary_2024_encoded.csv. Этот шаг необходим для подготовки данных к дальнейшему анализу и обучению моделей машинного обучения."
   ]
  },
  {
   "cell_type": "code",
   "execution_count": 23,
   "id": "809933cd-2487-4e4a-af7f-9ac16ade7674",
   "metadata": {},
   "outputs": [],
   "source": [
    "import pandas as pd\n",
    "from sklearn.model_selection import KFold\n",
    "from sklearn.linear_model import LinearRegression, Ridge, Lasso, ElasticNet\n",
    "from sklearn.ensemble import GradientBoostingRegressor\n",
    "from sklearn.metrics import max_error, mean_absolute_error, mean_squared_error, r2_score\n",
    "from sklearn.preprocessing import StandardScaler, OneHotEncoder\n",
    "from sklearn.compose import ColumnTransformer\n",
    "from sklearn.pipeline import Pipeline\n",
    "\n",
    "df = pd.read_csv('dataset_salary_2024_encoded.csv')\n",
    "\n",
    "X = df.drop(['salary_in_usd', 'salary_currency'], axis=1)  \n",
    "\n",
    "y = df['salary_in_usd']"
   ]
  },
  {
   "cell_type": "markdown",
   "id": "77426bfc-8c4c-485b-a0c9-db817731797a",
   "metadata": {},
   "source": [
    "# Определение категориальных и числовых признаков и создание препроцессоров"
   ]
  },
  {
   "cell_type": "markdown",
   "id": "1310af0f-da73-4fe9-ad24-54be03456cda",
   "metadata": {},
   "source": [
    "### Анализируем структуру данных и определяем, какие признаки являются категориальными и какие числовыми. Для числовых признаков создаём преобразователь StandardScaler для их масштабирования, а для категориальных признаков применяем OneHotEncoder для преобразования в бинарные вектора."
   ]
  },
  {
   "cell_type": "code",
   "execution_count": 24,
   "id": "1b744e26-4e1e-4dea-95c5-6a90c42b3d2c",
   "metadata": {},
   "outputs": [],
   "source": [
    "categorical_features = ['experience_level', 'employment_type', 'job_title', 'employee_residence', 'company_location', 'company_size']\n",
    "\n",
    "numeric_features = X.drop(categorical_features, axis=1).columns\n",
    "\n",
    "numeric_transformer = StandardScaler()\n",
    "\n",
    "categorical_transformer = OneHotEncoder(handle_unknown='ignore')\n",
    "\n",
    "preprocessor = ColumnTransformer(\n",
    "    transformers=[\n",
    "        ('num', numeric_transformer, numeric_features),\n",
    "        ('cat', categorical_transformer, categorical_features)\n",
    "    ])"
   ]
  },
  {
   "cell_type": "markdown",
   "id": "a1cc96b6-1916-43c8-9c5a-2fc66b1dfbcb",
   "metadata": {},
   "source": [
    "# Инициализация моделей и KFold разбиения"
   ]
  },
  {
   "cell_type": "markdown",
   "id": "1c66009e-3fbc-4d51-8d16-5cc0e836250a",
   "metadata": {},
   "source": [
    "### Определяем модели, которые будем использовать для решения задачи регрессии (Linear Regression, Ridge Regression, Lasso Regression, ElasticNet Regression, Gradient Boosting). Настраиваем KFold для разбиения данных на обучающие и тестовые наборы с целью оценки производительности моделей на различных подмножествах данных."
   ]
  },
  {
   "cell_type": "code",
   "execution_count": 25,
   "id": "a530864c-8988-4351-828f-289bc8ac890f",
   "metadata": {},
   "outputs": [],
   "source": [
    "kf = KFold(n_splits=5, shuffle=True, random_state=42)\n",
    "\n",
    "models = {\n",
    "    'Linear Regression': LinearRegression(),\n",
    "    'Ridge Regression': Ridge(),\n",
    "    'Lasso Regression': Lasso(max_iter=20000),\n",
    "    'ElasticNet Regression': ElasticNet(max_iter=15000),\n",
    "    'Gradient Boosting': GradientBoostingRegressor()\n",
    "}\n",
    "\n",
    "metrics = {\n",
    "    'max_error': max_error,\n",
    "    'mean_absolute_error': mean_absolute_error,\n",
    "    'mean_squared_error': mean_squared_error,\n",
    "    'r2_score': r2_score\n",
    "}"
   ]
  },
  {
   "cell_type": "markdown",
   "id": "84779bcf-dfdc-40cb-87f8-34b51e10f0d7",
   "metadata": {},
   "source": [
    "# Обучение и оценка моделей с использованием KFold"
   ]
  },
  {
   "cell_type": "markdown",
   "id": "8d16aea0-0902-446f-a987-5cd1cc80b193",
   "metadata": {},
   "source": [
    "### Для каждой модели и каждого фолда KFold разбиения обучаем модель на тренировочных данных, которые проходят предварительную обработку с использованием преобразователя данных (ColumnTransformer). Для каждого фолда вычисляем метрики производительности (max_error, mean_absolute_error, mean_squared_error, r2_score), которые сохраняем для последующего анализа."
   ]
  },
  {
   "cell_type": "code",
   "execution_count": 26,
   "id": "bf5c14e3-db4f-4998-a9e9-feeedad4cab8",
   "metadata": {},
   "outputs": [
    {
     "name": "stdout",
     "output_type": "stream",
     "text": [
      "Training Linear Regression...\n",
      "Results for Linear Regression:\n",
      "  max_error: Mean = 1209497.9727208652, Values = [370771.0271228127, 602217.7790280973, 3037649.2346759816, 537673.2428991026, 1499178.5798783326]\n",
      "  mean_absolute_error: Mean = 8386.642932877097, Values = [8125.2564406649535, 8502.610484741577, 8918.095210563282, 8193.014974004427, 8194.237554411244]\n",
      "  mean_squared_error: Mean = 1340253195.3713512, Values = [586027991.3145713, 856308128.9728245, 3465073068.900129, 668893831.2027202, 1124962956.4665103]\n",
      "  r2_score: Mean = 0.7176465631266883, Values = [0.8774426742712551, 0.8071377894366911, 0.28545202247456003, 0.8567877980276575, 0.7614125314232775]\n",
      "Training Ridge Regression...\n",
      "Results for Ridge Regression:\n",
      "  max_error: Mean = 927644.6514733136, Values = [396874.5549915937, 423615.8954083992, 3006613.0123117734, 425994.8545157601, 385124.9401390409]\n",
      "  mean_absolute_error: Mean = 8716.799633510303, Values = [8730.205410056122, 8638.67828474177, 8952.263783066324, 8782.845102471498, 8480.005587215803]\n",
      "  mean_squared_error: Mean = 1166071414.7301552, Values = [673482918.9820064, 659024924.4298257, 3375059153.2476354, 599308800.710117, 523481276.281191]\n",
      "  r2_score: Mean = 0.7550803893243863, Values = [0.859153032452818, 0.8515709480717922, 0.30401418843749906, 0.8716861645191525, 0.8889776131406694]\n",
      "Training Lasso Regression...\n",
      "Results for Lasso Regression:\n",
      "  max_error: Mean = 1472171.3272685886, Values = [369269.51126039244, 562816.9525736333, 3014762.9794730586, 506824.7868974634, 2907182.406138395]\n",
      "  mean_absolute_error: Mean = 8300.598336575385, Values = [7825.677497163612, 8277.20678269147, 8863.35690563087, 8044.1485598678555, 8492.601937523119]\n",
      "  mean_squared_error: Mean = 1681769454.0890145, Values = [555645135.0560077, 789985171.0482961, 3427842939.7616944, 628128799.5701787, 3007245225.0088954]\n",
      "  r2_score: Mean = 0.6453452854262076, Values = [0.883796707979948, 0.8220753940717953, 0.29312941136359816, 0.8655157151816716, 0.3622091985340248]\n",
      "Training ElasticNet Regression...\n",
      "Results for ElasticNet Regression:\n",
      "  max_error: Mean = 516559.74034212343, Values = [526663.8373764338, 556322.0130171201, 496862.27369905054, 498500.738191218, 504449.83942679485]\n",
      "  mean_absolute_error: Mean = 26194.711159758514, Values = [26537.905502686233, 25151.58522908127, 26829.32379639075, 26307.508195250943, 26147.233075383378]\n",
      "  mean_squared_error: Mean = 1698413346.4534862, Values = [1748307755.4323068, 1529212074.6858423, 1891539156.3582919, 1684098341.0028286, 1638909404.7881627]\n",
      "  r2_score: Mean = 0.6383469040291118, Values = [0.6343725449428368, 0.6555828315003944, 0.6099373803349513, 0.6394294273587205, 0.6524123360086557]\n",
      "Training Gradient Boosting...\n",
      "Results for Gradient Boosting:\n",
      "  max_error: Mean = 521202.7595091097, Values = [527456.8710321651, 670719.4750401977, 363020.6786755883, 620255.0819876966, 424561.690809901]\n",
      "  mean_absolute_error: Mean = 1840.2628790393305, Values = [1819.5548506236503, 1940.9607149183616, 1817.7047416878602, 1868.008827053433, 1755.0852609133467]\n",
      "  mean_squared_error: Mean = 149302814.48639217, Values = [124173232.5762302, 274218920.01877767, 71268371.6162752, 179257886.079941, 97595662.14073665]\n",
      "  r2_score: Mean = 0.9676991162006562, Values = [0.9740313781300811, 0.9382389757801972, 0.9853034352270946, 0.9616203418407138, 0.9793014500251941]\n"
     ]
    }
   ],
   "source": [
    "results = {}\n",
    "\n",
    "for model_name, model in models.items():\n",
    "    print(f\"Training {model_name}...\")\n",
    "    \n",
    "    fold_metrics = {'max_error': [], 'mean_absolute_error': [], 'mean_squared_error': [], 'r2_score': []}\n",
    "    \n",
    "    for train_index, test_index in kf.split(X):\n",
    "        X_train, X_test = X.iloc[train_index], X.iloc[test_index]\n",
    "        y_train, y_test = y.iloc[train_index], y.iloc[test_index]\n",
    "        \n",
    "        pipeline = Pipeline([\n",
    "            ('preprocessor', preprocessor),\n",
    "            ('model', model)\n",
    "        ])\n",
    "        \n",
    "        pipeline.fit(X_train, y_train)\n",
    "        \n",
    "        y_pred = pipeline.predict(X_test)\n",
    "        \n",
    "        for metric_name, metric_func in metrics.items():\n",
    "            metric_value = metric_func(y_test, y_pred)\n",
    "            fold_metrics[metric_name].append(metric_value)\n",
    "    \n",
    "    results[model_name] = fold_metrics\n",
    "\n",
    "    print(f\"Results for {model_name}:\")\n",
    "    for metric_name, values in fold_metrics.items():\n",
    "        mean_value = sum(values) / len(values)\n",
    "        print(f\"  {metric_name}: Mean = {mean_value}, Values = {values}\")"
   ]
  },
  {
   "cell_type": "markdown",
   "id": "dcf8e1e4-c308-44fe-9838-e45626c139c1",
   "metadata": {},
   "source": [
    "# Вывод результатов по каждой модели"
   ]
  },
  {
   "cell_type": "markdown",
   "id": "c2e63277-2a99-4344-ba91-a17564bde860",
   "metadata": {},
   "source": [
    "### Анализируем результаты работы каждой модели. Для каждой модели выводим значения метрик производительности для каждого фолда KFold, что позволяет оценить стабильность и точность модели на различных подмножествах данных."
   ]
  },
  {
   "cell_type": "code",
   "execution_count": 29,
   "id": "6058a7ba-b4d0-4ad8-b7f2-36607200eb51",
   "metadata": {},
   "outputs": [
    {
     "name": "stdout",
     "output_type": "stream",
     "text": [
      "\n",
      "Linear Regression:\n",
      "max_error: [370771.0271228127, 602217.7790280973, 3037649.2346759816, 537673.2428991026, 1499178.5798783326]\n",
      "  Mean: 1209497.9727208652\n",
      "mean_absolute_error: [8125.2564406649535, 8502.610484741577, 8918.095210563282, 8193.014974004427, 8194.237554411244]\n",
      "  Mean: 8386.642932877097\n",
      "mean_squared_error: [586027991.3145713, 856308128.9728245, 3465073068.900129, 668893831.2027202, 1124962956.4665103]\n",
      "  Mean: 1340253195.3713512\n",
      "r2_score: [0.8774426742712551, 0.8071377894366911, 0.28545202247456003, 0.8567877980276575, 0.7614125314232775]\n",
      "  Mean: 0.7176465631266883\n",
      "\n",
      "Ridge Regression:\n",
      "max_error: [396874.5549915937, 423615.8954083992, 3006613.0123117734, 425994.8545157601, 385124.9401390409]\n",
      "  Mean: 927644.6514733136\n",
      "mean_absolute_error: [8730.205410056122, 8638.67828474177, 8952.263783066324, 8782.845102471498, 8480.005587215803]\n",
      "  Mean: 8716.799633510303\n",
      "mean_squared_error: [673482918.9820064, 659024924.4298257, 3375059153.2476354, 599308800.710117, 523481276.281191]\n",
      "  Mean: 1166071414.7301552\n",
      "r2_score: [0.859153032452818, 0.8515709480717922, 0.30401418843749906, 0.8716861645191525, 0.8889776131406694]\n",
      "  Mean: 0.7550803893243863\n",
      "\n",
      "Lasso Regression:\n",
      "max_error: [369269.51126039244, 562816.9525736333, 3014762.9794730586, 506824.7868974634, 2907182.406138395]\n",
      "  Mean: 1472171.3272685886\n",
      "mean_absolute_error: [7825.677497163612, 8277.20678269147, 8863.35690563087, 8044.1485598678555, 8492.601937523119]\n",
      "  Mean: 8300.598336575385\n",
      "mean_squared_error: [555645135.0560077, 789985171.0482961, 3427842939.7616944, 628128799.5701787, 3007245225.0088954]\n",
      "  Mean: 1681769454.0890145\n",
      "r2_score: [0.883796707979948, 0.8220753940717953, 0.29312941136359816, 0.8655157151816716, 0.3622091985340248]\n",
      "  Mean: 0.6453452854262076\n",
      "\n",
      "ElasticNet Regression:\n",
      "max_error: [526663.8373764338, 556322.0130171201, 496862.27369905054, 498500.738191218, 504449.83942679485]\n",
      "  Mean: 516559.74034212343\n",
      "mean_absolute_error: [26537.905502686233, 25151.58522908127, 26829.32379639075, 26307.508195250943, 26147.233075383378]\n",
      "  Mean: 26194.711159758514\n",
      "mean_squared_error: [1748307755.4323068, 1529212074.6858423, 1891539156.3582919, 1684098341.0028286, 1638909404.7881627]\n",
      "  Mean: 1698413346.4534862\n",
      "r2_score: [0.6343725449428368, 0.6555828315003944, 0.6099373803349513, 0.6394294273587205, 0.6524123360086557]\n",
      "  Mean: 0.6383469040291118\n",
      "\n",
      "Gradient Boosting:\n",
      "max_error: [527456.8710321651, 670719.4750401977, 363020.6786755883, 620255.0819876966, 424561.690809901]\n",
      "  Mean: 521202.7595091097\n",
      "mean_absolute_error: [1819.5548506236503, 1940.9607149183616, 1817.7047416878602, 1868.008827053433, 1755.0852609133467]\n",
      "  Mean: 1840.2628790393305\n",
      "mean_squared_error: [124173232.5762302, 274218920.01877767, 71268371.6162752, 179257886.079941, 97595662.14073665]\n",
      "  Mean: 149302814.48639217\n",
      "r2_score: [0.9740313781300811, 0.9382389757801972, 0.9853034352270946, 0.9616203418407138, 0.9793014500251941]\n",
      "  Mean: 0.9676991162006562\n"
     ]
    }
   ],
   "source": [
    "for model_name, metrics in results.items():\n",
    "    print(f\"\\n{model_name}:\")\n",
    "    for metric_name, values in metrics.items():\n",
    "        mean_value = sum(values) / len(values)\n",
    "        print(f\"{metric_name}: {values}\")\n",
    "        print(f\"  Mean: {mean_value}\")"
   ]
  },
  {
   "cell_type": "markdown",
   "id": "154165cb-2c07-4b58-ae99-2f25f75555ea",
   "metadata": {},
   "source": [
    "# Выбор лучшей модели на основе метрики MSE и вывод её метрик"
   ]
  },
  {
   "cell_type": "markdown",
   "id": "95507b2d-5f0e-402b-82e2-87870a4a854f",
   "metadata": {},
   "source": [
    "### Определяем наилучшую модель на основе метрики среднеквадратичной ошибки (MSE). Выбранная модель выводится вместе с её метриками производительности (max_error, mean_absolute_error, mean_squared_error, r2_score), что помогает принять окончательное решение о наиболее эффективной модели для данной задачи регрессии."
   ]
  },
  {
   "cell_type": "code",
   "execution_count": 34,
   "id": "2624eec2-6de8-4d9f-b018-d9620289e162",
   "metadata": {},
   "outputs": [
    {
     "name": "stdout",
     "output_type": "stream",
     "text": [
      "\n",
      "Best model: Gradient Boosting\n",
      "Metrics:\n",
      "max_error: [527456.8710321651, 670719.4750401977, 363020.6786755883, 620255.0819876966, 424561.690809901]\n",
      "  Mean: 521202.7595091097\n",
      "mean_absolute_error: [1819.5548506236503, 1940.9607149183616, 1817.7047416878602, 1868.008827053433, 1755.0852609133467]\n",
      "  Mean: 1840.2628790393305\n",
      "mean_squared_error: [124173232.5762302, 274218920.01877767, 71268371.6162752, 179257886.079941, 97595662.14073665]\n",
      "  Mean: 149302814.48639217\n",
      "r2_score: [0.9740313781300811, 0.9382389757801972, 0.9853034352270946, 0.9616203418407138, 0.9793014500251941]\n",
      "  Mean: 0.9676991162006562\n"
     ]
    }
   ],
   "source": [
    "best_model_name = min(results, key=lambda x: sum(results[x]['mean_squared_error']) / len(results[x]['mean_squared_error']))\n",
    "\n",
    "print(f\"\\nBest model: {best_model_name}\")\n",
    "print(\"Metrics:\")\n",
    "for metric_name, values in results[best_model_name].items():\n",
    "    mean_value = sum(values) / len(values)\n",
    "    print(f\"{metric_name}: {values}\")\n",
    "    print(f\"  Mean: {mean_value}\")"
   ]
  },
  {
   "cell_type": "code",
   "execution_count": null,
   "id": "a428b3d3-0844-46e2-b93a-96dc393b6d61",
   "metadata": {},
   "outputs": [],
   "source": []
  }
 ],
 "metadata": {
  "kernelspec": {
   "display_name": "Python 3 (ipykernel)",
   "language": "python",
   "name": "python3"
  },
  "language_info": {
   "codemirror_mode": {
    "name": "ipython",
    "version": 3
   },
   "file_extension": ".py",
   "mimetype": "text/x-python",
   "name": "python",
   "nbconvert_exporter": "python",
   "pygments_lexer": "ipython3",
   "version": "3.12.0"
  }
 },
 "nbformat": 4,
 "nbformat_minor": 5
}
